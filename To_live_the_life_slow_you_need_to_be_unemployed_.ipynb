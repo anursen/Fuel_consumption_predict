{
  "nbformat": 4,
  "nbformat_minor": 0,
  "metadata": {
    "colab": {
      "name": "To live the life slow you need to be unemployed.",
      "provenance": [],
      "collapsed_sections": []
    },
    "kernelspec": {
      "name": "python3",
      "display_name": "Python 3"
    },
    "language_info": {
      "name": "python"
    }
  },
  "cells": [
    {
      "cell_type": "markdown",
      "source": [
        "> I read a story on Wired that calculates optimal driving speed to save gas and money.\n",
        "It's a great story but i have some objections.\n",
        "\n",
        "* You can't price your free time.\n",
        "* What about if you dont have a job?\n",
        "\n",
        "\n",
        "https://www.wired.com/story/is-there-an-optimal-driving-speed-that-saves-gas-and-money/amp\n"
      ],
      "metadata": {
        "id": "pifoJc3oRBrc"
      }
    },
    {
      "cell_type": "markdown",
      "source": [
        "To better tell you the whole story i need to better understand it.\n",
        "İ will start with importing the libraries I need."
      ],
      "metadata": {
        "id": "x36XX-caw-Ki"
      }
    },
    {
      "cell_type": "code",
      "source": [
        "import numpy as np\n",
        "import matplotlib.pyplot as plt\n",
        "import seaborn as sns\n",
        "import pandas as pd\n"
      ],
      "metadata": {
        "id": "pgNZ7mk8RdVC"
      },
      "execution_count": 1,
      "outputs": []
    },
    {
      "cell_type": "markdown",
      "source": [
        "Fuel consumpytions of cars are changing by the speed. Reasearch paper by a group of scientist formulize this change as follows.\n",
        "https://saemobilus.sae.org/content/2013-01-1113/\n"
      ],
      "metadata": {
        "id": "E6XQqY3Ewlwf"
      }
    },
    {
      "cell_type": "code",
      "execution_count": 2,
      "metadata": {
        "id": "FSly7k08Q_R_"
      },
      "outputs": [],
      "source": [
        "def calculate_mpg(actual_mpg,velocity):\n",
        "  mpg = (-0.00062 * actual_mpg**2 + 0.01345*actual_mpg - 0.34192) * velocity + 0.0533*actual_mpg**2 - 0.3580* actual_mpg + 30.0424 \n",
        "  return mpg"
      ]
    },
    {
      "cell_type": "markdown",
      "source": [
        "#Some black box"
      ],
      "metadata": {
        "id": "lOF6rUbmylKv"
      }
    },
    {
      "cell_type": "code",
      "source": [
        "velocity_series = np.linspace(50,80,30)"
      ],
      "metadata": {
        "id": "t3vrSq3TSMOm"
      },
      "execution_count": 3,
      "outputs": []
    },
    {
      "cell_type": "code",
      "source": [
        "mpg_series30 = calculate_mpg(30,velocity_series)\n",
        "mpg_series40 = calculate_mpg(40,velocity_series)\n",
        "mpg_series50 = calculate_mpg(50,velocity_series)"
      ],
      "metadata": {
        "id": "iHXYcnOhS-gs"
      },
      "execution_count": 4,
      "outputs": []
    },
    {
      "cell_type": "code",
      "source": [
        "mpg_series30"
      ],
      "metadata": {
        "colab": {
          "base_uri": "https://localhost:8080/"
        },
        "id": "7NzZICLCUCe9",
        "outputId": "09caf3b7-ca87-4df7-fe44-a7a1a8b0dfa7"
      },
      "execution_count": 5,
      "outputs": [
        {
          "output_type": "execute_result",
          "data": {
            "text/plain": [
              "array([42.4514    , 41.93786207, 41.42432414, 40.91078621, 40.39724828,\n",
              "       39.88371034, 39.37017241, 38.85663448, 38.34309655, 37.82955862,\n",
              "       37.31602069, 36.80248276, 36.28894483, 35.7754069 , 35.26186897,\n",
              "       34.74833103, 34.2347931 , 33.72125517, 33.20771724, 32.69417931,\n",
              "       32.18064138, 31.66710345, 31.15356552, 30.64002759, 30.12648966,\n",
              "       29.61295172, 29.09941379, 28.58587586, 28.07233793, 27.5588    ])"
            ]
          },
          "metadata": {},
          "execution_count": 5
        }
      ]
    },
    {
      "cell_type": "code",
      "source": [
        "df = pd.DataFrame(velocity_series)"
      ],
      "metadata": {
        "id": "DhmpdFVtUMvc"
      },
      "execution_count": 6,
      "outputs": []
    },
    {
      "cell_type": "code",
      "source": [
        "df.rename({0: 'Velocity'}, axis=1,inplace = True)"
      ],
      "metadata": {
        "id": "zZSGAtr0VnT9"
      },
      "execution_count": 7,
      "outputs": []
    },
    {
      "cell_type": "code",
      "source": [
        "df ['EPA30'] = mpg_series30\n",
        "df ['EPA40'] = mpg_series40\n",
        "df ['EPA50'] = mpg_series50"
      ],
      "metadata": {
        "id": "nPfa_WuQVg5V"
      },
      "execution_count": 8,
      "outputs": []
    },
    {
      "cell_type": "code",
      "source": [
        "df.head(5)"
      ],
      "metadata": {
        "colab": {
          "base_uri": "https://localhost:8080/",
          "height": 206
        },
        "id": "LcyHfoWXWs1c",
        "outputId": "d11e9ca2-5514-4131-c790-b1321ea6140e"
      },
      "execution_count": 9,
      "outputs": [
        {
          "output_type": "execute_result",
          "data": {
            "text/plain": [
              "    Velocity      EPA30      EPA40      EPA50\n",
              "0  50.000000  42.451400  61.206400  84.421400\n",
              "1  51.034483  41.937862  60.383034  83.159931\n",
              "2  52.068966  41.424324  59.559669  81.898462\n",
              "3  53.103448  40.910786  58.736303  80.636993\n",
              "4  54.137931  40.397248  57.912938  79.375524"
            ],
            "text/html": [
              "\n",
              "  <div id=\"df-2bb3423d-c8f8-4a08-9740-1ef590961ca4\">\n",
              "    <div class=\"colab-df-container\">\n",
              "      <div>\n",
              "<style scoped>\n",
              "    .dataframe tbody tr th:only-of-type {\n",
              "        vertical-align: middle;\n",
              "    }\n",
              "\n",
              "    .dataframe tbody tr th {\n",
              "        vertical-align: top;\n",
              "    }\n",
              "\n",
              "    .dataframe thead th {\n",
              "        text-align: right;\n",
              "    }\n",
              "</style>\n",
              "<table border=\"1\" class=\"dataframe\">\n",
              "  <thead>\n",
              "    <tr style=\"text-align: right;\">\n",
              "      <th></th>\n",
              "      <th>Velocity</th>\n",
              "      <th>EPA30</th>\n",
              "      <th>EPA40</th>\n",
              "      <th>EPA50</th>\n",
              "    </tr>\n",
              "  </thead>\n",
              "  <tbody>\n",
              "    <tr>\n",
              "      <th>0</th>\n",
              "      <td>50.000000</td>\n",
              "      <td>42.451400</td>\n",
              "      <td>61.206400</td>\n",
              "      <td>84.421400</td>\n",
              "    </tr>\n",
              "    <tr>\n",
              "      <th>1</th>\n",
              "      <td>51.034483</td>\n",
              "      <td>41.937862</td>\n",
              "      <td>60.383034</td>\n",
              "      <td>83.159931</td>\n",
              "    </tr>\n",
              "    <tr>\n",
              "      <th>2</th>\n",
              "      <td>52.068966</td>\n",
              "      <td>41.424324</td>\n",
              "      <td>59.559669</td>\n",
              "      <td>81.898462</td>\n",
              "    </tr>\n",
              "    <tr>\n",
              "      <th>3</th>\n",
              "      <td>53.103448</td>\n",
              "      <td>40.910786</td>\n",
              "      <td>58.736303</td>\n",
              "      <td>80.636993</td>\n",
              "    </tr>\n",
              "    <tr>\n",
              "      <th>4</th>\n",
              "      <td>54.137931</td>\n",
              "      <td>40.397248</td>\n",
              "      <td>57.912938</td>\n",
              "      <td>79.375524</td>\n",
              "    </tr>\n",
              "  </tbody>\n",
              "</table>\n",
              "</div>\n",
              "      <button class=\"colab-df-convert\" onclick=\"convertToInteractive('df-2bb3423d-c8f8-4a08-9740-1ef590961ca4')\"\n",
              "              title=\"Convert this dataframe to an interactive table.\"\n",
              "              style=\"display:none;\">\n",
              "        \n",
              "  <svg xmlns=\"http://www.w3.org/2000/svg\" height=\"24px\"viewBox=\"0 0 24 24\"\n",
              "       width=\"24px\">\n",
              "    <path d=\"M0 0h24v24H0V0z\" fill=\"none\"/>\n",
              "    <path d=\"M18.56 5.44l.94 2.06.94-2.06 2.06-.94-2.06-.94-.94-2.06-.94 2.06-2.06.94zm-11 1L8.5 8.5l.94-2.06 2.06-.94-2.06-.94L8.5 2.5l-.94 2.06-2.06.94zm10 10l.94 2.06.94-2.06 2.06-.94-2.06-.94-.94-2.06-.94 2.06-2.06.94z\"/><path d=\"M17.41 7.96l-1.37-1.37c-.4-.4-.92-.59-1.43-.59-.52 0-1.04.2-1.43.59L10.3 9.45l-7.72 7.72c-.78.78-.78 2.05 0 2.83L4 21.41c.39.39.9.59 1.41.59.51 0 1.02-.2 1.41-.59l7.78-7.78 2.81-2.81c.8-.78.8-2.07 0-2.86zM5.41 20L4 18.59l7.72-7.72 1.47 1.35L5.41 20z\"/>\n",
              "  </svg>\n",
              "      </button>\n",
              "      \n",
              "  <style>\n",
              "    .colab-df-container {\n",
              "      display:flex;\n",
              "      flex-wrap:wrap;\n",
              "      gap: 12px;\n",
              "    }\n",
              "\n",
              "    .colab-df-convert {\n",
              "      background-color: #E8F0FE;\n",
              "      border: none;\n",
              "      border-radius: 50%;\n",
              "      cursor: pointer;\n",
              "      display: none;\n",
              "      fill: #1967D2;\n",
              "      height: 32px;\n",
              "      padding: 0 0 0 0;\n",
              "      width: 32px;\n",
              "    }\n",
              "\n",
              "    .colab-df-convert:hover {\n",
              "      background-color: #E2EBFA;\n",
              "      box-shadow: 0px 1px 2px rgba(60, 64, 67, 0.3), 0px 1px 3px 1px rgba(60, 64, 67, 0.15);\n",
              "      fill: #174EA6;\n",
              "    }\n",
              "\n",
              "    [theme=dark] .colab-df-convert {\n",
              "      background-color: #3B4455;\n",
              "      fill: #D2E3FC;\n",
              "    }\n",
              "\n",
              "    [theme=dark] .colab-df-convert:hover {\n",
              "      background-color: #434B5C;\n",
              "      box-shadow: 0px 1px 3px 1px rgba(0, 0, 0, 0.15);\n",
              "      filter: drop-shadow(0px 1px 2px rgba(0, 0, 0, 0.3));\n",
              "      fill: #FFFFFF;\n",
              "    }\n",
              "  </style>\n",
              "\n",
              "      <script>\n",
              "        const buttonEl =\n",
              "          document.querySelector('#df-2bb3423d-c8f8-4a08-9740-1ef590961ca4 button.colab-df-convert');\n",
              "        buttonEl.style.display =\n",
              "          google.colab.kernel.accessAllowed ? 'block' : 'none';\n",
              "\n",
              "        async function convertToInteractive(key) {\n",
              "          const element = document.querySelector('#df-2bb3423d-c8f8-4a08-9740-1ef590961ca4');\n",
              "          const dataTable =\n",
              "            await google.colab.kernel.invokeFunction('convertToInteractive',\n",
              "                                                     [key], {});\n",
              "          if (!dataTable) return;\n",
              "\n",
              "          const docLinkHtml = 'Like what you see? Visit the ' +\n",
              "            '<a target=\"_blank\" href=https://colab.research.google.com/notebooks/data_table.ipynb>data table notebook</a>'\n",
              "            + ' to learn more about interactive tables.';\n",
              "          element.innerHTML = '';\n",
              "          dataTable['output_type'] = 'display_data';\n",
              "          await google.colab.output.renderOutput(dataTable, element);\n",
              "          const docLink = document.createElement('div');\n",
              "          docLink.innerHTML = docLinkHtml;\n",
              "          element.appendChild(docLink);\n",
              "        }\n",
              "      </script>\n",
              "    </div>\n",
              "  </div>\n",
              "  "
            ]
          },
          "metadata": {},
          "execution_count": 9
        }
      ]
    },
    {
      "cell_type": "code",
      "source": [
        "sns.lineplot(data=df,x='Velocity',y='EPA30',label='Modified MPG of mpg30')\n",
        "sns.lineplot(data=df,x='Velocity',y='EPA40',label='Modified MPG of mpg40')\n",
        "sns.lineplot(data=df,x='Velocity',y='EPA50',label='Modified MPG of mpg50')"
      ],
      "metadata": {
        "colab": {
          "base_uri": "https://localhost:8080/",
          "height": 297
        },
        "id": "1f3yvfhDWvZu",
        "outputId": "de678d86-8fa3-4ef0-cacb-d1012f707b47"
      },
      "execution_count": 10,
      "outputs": [
        {
          "output_type": "execute_result",
          "data": {
            "text/plain": [
              "<matplotlib.axes._subplots.AxesSubplot at 0x7f8ff0c57210>"
            ]
          },
          "metadata": {},
          "execution_count": 10
        },
        {
          "output_type": "display_data",
          "data": {
            "text/plain": [
              "<Figure size 432x288 with 1 Axes>"
            ],
            "image/png": "[encoded data removed]"
          },
          "metadata": {
            "needs_background": "light"
          }
        }
      ]
    },
    {
      "cell_type": "markdown",
      "source": [
        "Here you can see that cars consume more fuel don't care much.\n",
        "\n",
        "(better mpg cars gets better by driving slowly)"
      ],
      "metadata": {
        "id": "WUp1gQQSyse8"
      }
    },
    {
      "cell_type": "markdown",
      "source": [
        "#Here comes the the black magic\n",
        "Cost of traveling,\n",
        "If we propose that you  work if you are not travelling, if you have other means of opportunity cost(such as speending your travel time with your family, you can put the cost if this time to your hourly salary) (if you can calculate the real cost of this time)"
      ],
      "metadata": {
        "id": "YMqnYLw0X0CF"
      }
    },
    {
      "cell_type": "code",
      "source": [
        "def calculate_cost_of_travel_time(hourly_rate,distance,mph):\n",
        "  travel_time = distance/mph\n",
        "  return hourly_rate * travel_time\n",
        "\n",
        "# total distance / mpg * gas price\n",
        "#cost of gas = total distance / mpg * gas price \n",
        "def calc_gas_cost(total_distance,mpg,gas_price=4,):\n",
        "  return total_distance / mpg * gas_price"
      ],
      "metadata": {
        "id": "VUewo_07XuLL"
      },
      "execution_count": 11,
      "outputs": []
    },
    {
      "cell_type": "markdown",
      "source": [
        "You can edit these field to better suit your needs."
      ],
      "metadata": {
        "id": "EC_ifKGDzen4"
      }
    },
    {
      "cell_type": "code",
      "source": [
        "Distance_to_work = 35\n",
        "Gas_Price = 4\n",
        "Hourly_rate = 17\n",
        "Cars_mpg = 52"
      ],
      "metadata": {
        "id": "2Bd9JW4yzlEV"
      },
      "execution_count": 16,
      "outputs": []
    },
    {
      "cell_type": "code",
      "source": [
        "speed_series = np.linspace(55,90,50)\n",
        "mpg_series = calculate_mpg(Cars_mpg,speed_series)\n",
        "cost_series = calculate_cost_of_travel_time(Hourly_rate,Distance_to_work,speed_series) + calc_gas_cost(Distance_to_work,mpg_series)\n",
        "cost_series_for_unemployed = calc_gas_cost(Distance_to_work,mpg_series)\n",
        "cost_of_time_series = calculate_cost_of_travel_time(Hourly_rate,Distance_to_work,mpg_series)"
      ],
      "metadata": {
        "id": "mW7k4emNzoh6"
      },
      "execution_count": 17,
      "outputs": []
    },
    {
      "cell_type": "code",
      "source": [
        "#print(f\"Minumum Cost of Gas for Trip ==> {float(calc_gas_cost(Distance_to_work,mpg_series).min())}\")\n",
        "print(f\"Optimum Speed for Unemployed ==> {float(speed_series[np.where(cost_series_for_unemployed == cost_series_for_unemployed.min())])}\")\n",
        "print(f\"Optimum Speed for Employed.  ==> {float(speed_series[np.where(cost_series == cost_series.min())])}\")\n",
        "sns.lineplot(x=speed_series,y=cost_series,label='Employed')\n",
        "sns.lineplot(x=speed_series,y=cost_series_for_unemployed,label='Unemployed')\n",
        "#sns.lineplot(x=speed_series,y=cost_of_time_series)\n"
      ],
      "metadata": {
        "colab": {
          "base_uri": "https://localhost:8080/",
          "height": 318
        },
        "id": "CJ1sFjfJg2Ig",
        "outputId": "961c566e-becc-4adb-dfca-99566361bc70"
      },
      "execution_count": 18,
      "outputs": [
        {
          "output_type": "stream",
          "name": "stdout",
          "text": [
            "Optimum Speed for Unemployed ==> 55.0\n",
            "Optimum Speed for Employed.  ==> 82.85714285714286\n"
          ]
        },
        {
          "output_type": "execute_result",
          "data": {
            "text/plain": [
              "<matplotlib.axes._subplots.AxesSubplot at 0x7f8ff0564d90>"
            ]
          },
          "metadata": {},
          "execution_count": 18
        },
        {
          "output_type": "display_data",
          "data": {
            "text/plain": [
              "<Figure size 432x288 with 1 Axes>"
            ],
            "image/png": "[encoded data removed]"
          },
          "metadata": {
            "needs_background": "light"
          }
        }
      ]
    },
    {
      "cell_type": "markdown",
      "source": [
        "Conclusion:\n",
        "You can live the life if you are unemployed.\n",
        "No need to run!!!"
      ],
      "metadata": {
        "id": "v4hkluDEz7DZ"
      }
    },
    {
      "cell_type": "code",
      "source": [
        ""
      ],
      "metadata": {
        "id": "yWZeT9QK0RJC"
      },
      "execution_count": null,
      "outputs": []
    }
  ]
}